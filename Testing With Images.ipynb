{
 "cells": [
  {
   "cell_type": "code",
   "execution_count": 1,
   "id": "6cf9491b",
   "metadata": {},
   "outputs": [],
   "source": [
    "from tensorflow.keras.applications.mobilenet_v2 import preprocess_input\n",
    "from tensorflow.keras.preprocessing.image import img_to_array\n",
    "from tensorflow.keras.models import load_model\n",
    "import numpy as np\n",
    "import cv2\n",
    "import os"
   ]
  },
  {
   "cell_type": "code",
   "execution_count": 2,
   "id": "92494bc6",
   "metadata": {},
   "outputs": [],
   "source": [
    "prototxtPath=os.path.sep.join([r'D:\\data\\face detector','deploy.prototxt'])\n",
    "weightsPath=os.path.sep.join([r'D:\\data\\face detector','res10_300x300_ssd_iter_140000.caffemodel'])"
   ]
  },
  {
   "cell_type": "code",
   "execution_count": 3,
   "id": "0e6f8042",
   "metadata": {},
   "outputs": [
    {
     "data": {
      "text/plain": [
       "'D:\\\\data\\\\face detector\\\\deploy.prototxt'"
      ]
     },
     "execution_count": 3,
     "metadata": {},
     "output_type": "execute_result"
    }
   ],
   "source": [
    "prototxtPath"
   ]
  },
  {
   "cell_type": "code",
   "execution_count": 4,
   "id": "428d60a6",
   "metadata": {},
   "outputs": [
    {
     "data": {
      "text/plain": [
       "'D:\\\\data\\\\face detector\\\\res10_300x300_ssd_iter_140000.caffemodel'"
      ]
     },
     "execution_count": 4,
     "metadata": {},
     "output_type": "execute_result"
    }
   ],
   "source": [
    "weightsPath"
   ]
  },
  {
   "cell_type": "code",
   "execution_count": 5,
   "id": "937b6ecd",
   "metadata": {},
   "outputs": [],
   "source": [
    "net=cv2.dnn.readNet(prototxtPath,weightsPath)"
   ]
  },
  {
   "cell_type": "code",
   "execution_count": 6,
   "id": "dda2e22d",
   "metadata": {},
   "outputs": [],
   "source": [
    "model=load_model(r'D:\\data\\mobilenet_v2.h5')"
   ]
  },
  {
   "cell_type": "code",
   "execution_count": 28,
   "id": "1ecb130d",
   "metadata": {},
   "outputs": [],
   "source": [
    "image=cv2.imread(r'D:\\data\\examples\\example_01.jpg')"
   ]
  },
  {
   "cell_type": "code",
   "execution_count": 29,
   "id": "d2fda68f",
   "metadata": {},
   "outputs": [
    {
     "data": {
      "text/plain": [
       "array([[[215, 215, 215],\n",
       "        [215, 215, 215],\n",
       "        [215, 215, 215],\n",
       "        ...,\n",
       "        [215, 215, 215],\n",
       "        [215, 215, 215],\n",
       "        [215, 215, 215]],\n",
       "\n",
       "       [[215, 215, 215],\n",
       "        [215, 215, 215],\n",
       "        [215, 215, 215],\n",
       "        ...,\n",
       "        [215, 215, 215],\n",
       "        [215, 215, 215],\n",
       "        [215, 215, 215]],\n",
       "\n",
       "       [[215, 215, 215],\n",
       "        [215, 215, 215],\n",
       "        [215, 215, 215],\n",
       "        ...,\n",
       "        [215, 215, 215],\n",
       "        [215, 215, 215],\n",
       "        [215, 215, 215]],\n",
       "\n",
       "       ...,\n",
       "\n",
       "       [[215, 215, 215],\n",
       "        [215, 215, 215],\n",
       "        [215, 215, 215],\n",
       "        ...,\n",
       "        [215, 215, 215],\n",
       "        [215, 215, 215],\n",
       "        [215, 215, 215]],\n",
       "\n",
       "       [[215, 215, 215],\n",
       "        [215, 215, 215],\n",
       "        [215, 215, 215],\n",
       "        ...,\n",
       "        [215, 215, 215],\n",
       "        [215, 215, 215],\n",
       "        [215, 215, 215]],\n",
       "\n",
       "       [[215, 215, 215],\n",
       "        [215, 215, 215],\n",
       "        [215, 215, 215],\n",
       "        ...,\n",
       "        [215, 215, 215],\n",
       "        [215, 215, 215],\n",
       "        [215, 215, 215]]], dtype=uint8)"
      ]
     },
     "execution_count": 29,
     "metadata": {},
     "output_type": "execute_result"
    }
   ],
   "source": [
    "image"
   ]
  },
  {
   "cell_type": "code",
   "execution_count": 30,
   "id": "d7ebd151",
   "metadata": {},
   "outputs": [],
   "source": [
    "(h,w)=image.shape[:2]"
   ]
  },
  {
   "cell_type": "code",
   "execution_count": 31,
   "id": "1b0c65be",
   "metadata": {},
   "outputs": [
    {
     "data": {
      "text/plain": [
       "(339, 508)"
      ]
     },
     "execution_count": 31,
     "metadata": {},
     "output_type": "execute_result"
    }
   ],
   "source": [
    "(h,w)"
   ]
  },
  {
   "cell_type": "code",
   "execution_count": 32,
   "id": "6b13eb4b",
   "metadata": {},
   "outputs": [],
   "source": [
    "blob=cv2.dnn.blobFromImage(image,1.0,(300,300),(104.0,177.0,123.0))"
   ]
  },
  {
   "cell_type": "code",
   "execution_count": 33,
   "id": "b2eec713",
   "metadata": {},
   "outputs": [
    {
     "data": {
      "text/plain": [
       "array([[[[111., 111., 111., ..., 111., 111., 111.],\n",
       "         [111., 111., 111., ..., 111., 111., 111.],\n",
       "         [111., 111., 111., ..., 111., 111., 111.],\n",
       "         ...,\n",
       "         [111., 111., 111., ..., 111., 111., 111.],\n",
       "         [111., 111., 111., ..., 111., 111., 111.],\n",
       "         [111., 111., 111., ..., 111., 111., 111.]],\n",
       "\n",
       "        [[ 38.,  38.,  38., ...,  38.,  38.,  38.],\n",
       "         [ 38.,  38.,  38., ...,  38.,  38.,  38.],\n",
       "         [ 38.,  38.,  38., ...,  38.,  38.,  38.],\n",
       "         ...,\n",
       "         [ 38.,  38.,  38., ...,  38.,  38.,  38.],\n",
       "         [ 38.,  38.,  38., ...,  38.,  38.,  38.],\n",
       "         [ 38.,  38.,  38., ...,  38.,  38.,  38.]],\n",
       "\n",
       "        [[ 92.,  92.,  92., ...,  92.,  92.,  92.],\n",
       "         [ 92.,  92.,  92., ...,  92.,  92.,  92.],\n",
       "         [ 92.,  92.,  92., ...,  92.,  92.,  92.],\n",
       "         ...,\n",
       "         [ 92.,  92.,  92., ...,  92.,  92.,  92.],\n",
       "         [ 92.,  92.,  92., ...,  92.,  92.,  92.],\n",
       "         [ 92.,  92.,  92., ...,  92.,  92.,  92.]]]], dtype=float32)"
      ]
     },
     "execution_count": 33,
     "metadata": {},
     "output_type": "execute_result"
    }
   ],
   "source": [
    "blob"
   ]
  },
  {
   "cell_type": "code",
   "execution_count": 34,
   "id": "beaec9f8",
   "metadata": {},
   "outputs": [
    {
     "data": {
      "text/plain": [
       "(1, 3, 300, 300)"
      ]
     },
     "execution_count": 34,
     "metadata": {},
     "output_type": "execute_result"
    }
   ],
   "source": [
    "blob.shape"
   ]
  },
  {
   "cell_type": "code",
   "execution_count": 35,
   "id": "c16d25da",
   "metadata": {},
   "outputs": [],
   "source": [
    "net.setInput(blob)\n",
    "detections=net.forward()"
   ]
  },
  {
   "cell_type": "code",
   "execution_count": 36,
   "id": "27e2e920",
   "metadata": {},
   "outputs": [
    {
     "data": {
      "text/plain": [
       "array([[[[0.        , 1.        , 0.9998466 , ..., 0.20076737,\n",
       "          0.60225993, 0.6905713 ],\n",
       "         [0.        , 1.        , 0.12436623, ..., 4.0075903 ,\n",
       "          4.840872  , 4.9883986 ],\n",
       "         [0.        , 1.        , 0.11969036, ..., 4.008651  ,\n",
       "          0.8284174 , 4.990305  ],\n",
       "         ...,\n",
       "         [0.        , 0.        , 0.        , ..., 0.        ,\n",
       "          0.        , 0.        ],\n",
       "         [0.        , 0.        , 0.        , ..., 0.        ,\n",
       "          0.        , 0.        ],\n",
       "         [0.        , 0.        , 0.        , ..., 0.        ,\n",
       "          0.        , 0.        ]]]], dtype=float32)"
      ]
     },
     "execution_count": 36,
     "metadata": {},
     "output_type": "execute_result"
    }
   ],
   "source": [
    "detections"
   ]
  },
  {
   "cell_type": "code",
   "execution_count": 37,
   "id": "5f678b3b",
   "metadata": {},
   "outputs": [
    {
     "name": "stdout",
     "output_type": "stream",
     "text": [
      "1/1 [==============================] - 0s 48ms/step\n"
     ]
    }
   ],
   "source": [
    "#loop over the detections\n",
    "for i in range(0,detections.shape[2]):\n",
    "    confidence=detections[0,0,i,2]\n",
    "    \n",
    "    \n",
    "    if confidence>0.5:\n",
    "        #we need the X,Y coordinates\n",
    "        box=detections[0,0,i,3:7]*np.array([w,h,w,h])\n",
    "        (startX,startY,endX,endY)=box.astype('int')\n",
    "        \n",
    "        #ensure the bounding boxes fall within the dimensions of the frame\n",
    "        (startX,startY)=(max(0,startX),max(0,startY))\n",
    "        (endX,endY)=(min(w-1,endX), min(h-1,endY))\n",
    "        \n",
    "        \n",
    "        #extract the face ROI, convert it from BGR to RGB channel, resize it to 224,224 and preprocess it\n",
    "        face=image[startY:endY, startX:endX]\n",
    "        face=cv2.cvtColor(face,cv2.COLOR_BGR2RGB)\n",
    "        face=cv2.resize(face,(224,224))\n",
    "        face=img_to_array(face)\n",
    "        face=preprocess_input(face)\n",
    "        face=np.expand_dims(face,axis=0)\n",
    "        \n",
    "        (mask,withoutMask)=model.predict(face)[0]\n",
    "        \n",
    "        #determine the class label and color we will use to draw the bounding box and text\n",
    "        label='Mask' if mask>withoutMask else 'No Mask'\n",
    "        color=(0,255,0) if label=='Mask' else (0,0,255)\n",
    "        \n",
    "        #include the probability in the label\n",
    "        label=\"{}: {:.2f}%\".format(label,max(mask,withoutMask)*100)\n",
    "        \n",
    "        #display the label and bounding boxes\n",
    "        cv2.putText(image,label,(startX,startY-10),cv2.FONT_HERSHEY_SIMPLEX,0.45,color,2)\n",
    "        cv2.rectangle(image,(startX,startY),(endX,endY),color,2)\n",
    "        \n",
    "        \n",
    "        \n",
    "cv2.imshow(\"OutPut\",image)\n",
    "cv2.waitKey(0)\n",
    "cv2.destroyAllWindows()"
   ]
  },
  {
   "cell_type": "code",
   "execution_count": null,
   "id": "46611616",
   "metadata": {},
   "outputs": [],
   "source": []
  }
 ],
 "metadata": {
  "kernelspec": {
   "display_name": "Python 3 (ipykernel)",
   "language": "python",
   "name": "python3"
  },
  "language_info": {
   "codemirror_mode": {
    "name": "ipython",
    "version": 3
   },
   "file_extension": ".py",
   "mimetype": "text/x-python",
   "name": "python",
   "nbconvert_exporter": "python",
   "pygments_lexer": "ipython3",
   "version": "3.9.12"
  }
 },
 "nbformat": 4,
 "nbformat_minor": 5
}
